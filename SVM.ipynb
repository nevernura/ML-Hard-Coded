{
 "cells": [
  {
   "cell_type": "code",
   "execution_count": 18,
   "metadata": {},
   "outputs": [],
   "source": [
    "import numpy as np\n",
    "import matplotlib.pyplot as plt\n",
    "from sklearn.datasets import load_breast_cancer\n",
    "from sklearn.model_selection import train_test_split\n",
    "from sklearn.metrics import accuracy_score, precision_score, recall_score, f1_score\n",
    "from sklearn.preprocessing import StandardScaler"
   ]
  },
  {
   "cell_type": "code",
   "execution_count": 24,
   "metadata": {},
   "outputs": [],
   "source": [
    "class SVM_BatchGD:\n",
    "    def __init__(self, learning_rate=0.01, iterations=1000):\n",
    "        self.learning_rate = learning_rate\n",
    "        self.iterations = iterations\n",
    "\n",
    "    def fit(self, X, y):\n",
    "        self.X = X\n",
    "        self.y = y\n",
    "        self.m, self.n = X.shape\n",
    "        self.weights = np.zeros(self.n)\n",
    "        self.bias = 0\n",
    "\n",
    "        for i in range(self.iterations):\n",
    "            for j in range(self.m):\n",
    "                if y[j] * (np.dot(X[j], self.weights) - self.bias) >= 1:\n",
    "                    self.weights -= self.learning_rate * (2 * 1/self.iterations * self.weights)\n",
    "                else:\n",
    "                    self.weights -= self.learning_rate * (2 * 1/self.iterations * self.weights - np.dot(X[j], y[j]))\n",
    "                    self.bias -= self.learning_rate * y[j]\n",
    "    \n",
    "    def predict(self, X):\n",
    "        return np.sign(np.dot(X, self.weights) - self.bias)"
   ]
  },
  {
   "cell_type": "code",
   "execution_count": 36,
   "metadata": {},
   "outputs": [],
   "source": [
    "class SVM_StochasticGD:\n",
    "    def __init__(self, learning_rate=0.01, iterations=1000):\n",
    "        self.learning_rate = learning_rate\n",
    "        self.iterations = iterations\n",
    "\n",
    "    def fit(self, X, y):\n",
    "        self.m, self.n = X.shape\n",
    "        self.weights = np.zeros(self.n)\n",
    "        self.bias = 0\n",
    "\n",
    "        for _ in range(self.iterations):\n",
    "            for j in range(self.m):\n",
    "                random_index = np.random.randint(0, self.m)\n",
    "                X_i = X[random_index]\n",
    "                y_i = y[random_index]\n",
    "                if y_i * (np.dot(X_i, self.weights) - self.bias) >= 1:\n",
    "                    self.weights -= self.learning_rate * (2 * (1/self.iterations) * self.weights)\n",
    "                else:\n",
    "                    self.weights -= self.learning_rate * (2 * (1/self.iterations) * self.weights - np.dot(X_i, y_i))\n",
    "                    self.bias -= self.learning_rate * y_i\n",
    "\n",
    "    def predict(self, X):\n",
    "        return np.sign(np.dot(X, self.weights) - self.bias)\n"
   ]
  },
  {
   "cell_type": "code",
   "execution_count": 37,
   "metadata": {},
   "outputs": [],
   "source": [
    "# Load Breast Cancer dataset\n",
    "data = load_breast_cancer()\n",
    "X = data.data\n",
    "y = data.target\n",
    "\n",
    "# Standardize features\n",
    "scaler = StandardScaler()\n",
    "X = scaler.fit_transform(X)\n",
    "\n",
    "# Split data into train and test sets\n",
    "X_train, X_test, y_train, y_test = train_test_split(X, y, test_size=0.2, random_state=42)"
   ]
  },
  {
   "cell_type": "code",
   "execution_count": 38,
   "metadata": {},
   "outputs": [],
   "source": [
    "# Initialize and train SVM model using batch gradient descent\n",
    "svm_batchgd = SVM_BatchGD(learning_rate=0.01, iterations=1000)\n",
    "svm_batchgd.fit(X_train, y_train)\n",
    "y_pred_batchgd = svm_batchgd.predict(X_test)\n",
    "\n",
    "# Initialize and train SVM model using stochastic gradient descent\n",
    "svm_stochasticgd = SVM_StochasticGD(learning_rate=0.01, iterations=1000)\n",
    "svm_stochasticgd.fit(X_train, y_train)\n",
    "y_pred_stochasticgd = svm_stochasticgd.predict(X_test)\n",
    "\n",
    "# Evaluate performance\n",
    "batchgd_metrics = [accuracy_score(y_test, y_pred_batchgd),\n",
    "                   precision_score(y_test, y_pred_batchgd),\n",
    "                   recall_score(y_test, y_pred_batchgd),\n",
    "                   f1_score(y_test, y_pred_batchgd)]\n",
    "\n",
    "stochasticgd_metrics = [accuracy_score(y_test, y_pred_stochasticgd),\n",
    "                        precision_score(y_test, y_pred_stochasticgd),\n",
    "                        recall_score(y_test, y_pred_stochasticgd),\n",
    "                        f1_score(y_test, y_pred_stochasticgd)]"
   ]
  },
  {
   "cell_type": "code",
   "execution_count": 44,
   "metadata": {},
   "outputs": [
    {
     "name": "stdout",
     "output_type": "stream",
     "text": [
      "SVM with Batch Gradient Descent:\n",
      "Accuracy: 0.6228070175438597\n",
      "Precision: 0.6228070175438597\n",
      "Recall: 1.0\n",
      "F1-score: 0.7675675675675676\n",
      "\n",
      "SVM with Stochastic Gradient Descent:\n",
      "Accuracy: 0.6228070175438597\n",
      "Precision: 0.6228070175438597\n",
      "Recall: 1.0\n",
      "F1-score: 0.7675675675675676\n"
     ]
    }
   ],
   "source": [
    "print(\"SVM with Batch Gradient Descent:\")\n",
    "print(\"Accuracy:\", batchgd_metrics[0])\n",
    "print(\"Precision:\", batchgd_metrics[1])\n",
    "print(\"Recall:\", batchgd_metrics[2])\n",
    "print(\"F1-score:\", batchgd_metrics[3])\n",
    "\n",
    "print(\"\\nSVM with Stochastic Gradient Descent:\")\n",
    "print(\"Accuracy:\", stochasticgd_metrics[0])\n",
    "print(\"Precision:\", stochasticgd_metrics[1])\n",
    "print(\"Recall:\", stochasticgd_metrics[2])\n",
    "print(\"F1-score:\", stochasticgd_metrics[3])\n"
   ]
  },
  {
   "cell_type": "code",
   "execution_count": 45,
   "metadata": {},
   "outputs": [
    {
     "name": "stdout",
     "output_type": "stream",
     "text": [
      "Confusion matrix for SVM model using Batch Gradient Descent:\n",
      "[[ 0 43]\n",
      " [ 0 71]]\n",
      "\n",
      "Confusion matrix for SVM model using Stochastic Gradient Descent:\n",
      "[[ 0 43]\n",
      " [ 0 71]]\n"
     ]
    }
   ],
   "source": [
    "from sklearn.metrics import confusion_matrix\n",
    "\n",
    "# Compute confusion matrix for Batch Gradient Descent SVM\n",
    "conf_matrix_batchgd = confusion_matrix(y_test, y_pred_batchgd)\n",
    "\n",
    "# Compute confusion matrix for Stochastic Gradient Descent SVM\n",
    "conf_matrix_stochasticgd = confusion_matrix(y_test, y_pred_stochasticgd)\n",
    "\n",
    "print(\"Confusion matrix for SVM model using Batch Gradient Descent:\")\n",
    "print(conf_matrix_batchgd)\n",
    "\n",
    "print(\"\\nConfusion matrix for SVM model using Stochastic Gradient Descent:\")\n",
    "print(conf_matrix_stochasticgd)\n"
   ]
  },
  {
   "cell_type": "code",
   "execution_count": null,
   "metadata": {},
   "outputs": [],
   "source": []
  }
 ],
 "metadata": {
  "kernelspec": {
   "display_name": "Python 3 (ipykernel)",
   "language": "python",
   "name": "python3"
  },
  "language_info": {
   "codemirror_mode": {
    "name": "ipython",
    "version": 3
   },
   "file_extension": ".py",
   "mimetype": "text/x-python",
   "name": "python",
   "nbconvert_exporter": "python",
   "pygments_lexer": "ipython3",
   "version": "3.11.5"
  }
 },
 "nbformat": 4,
 "nbformat_minor": 2
}
